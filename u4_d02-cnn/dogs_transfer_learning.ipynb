{
 "cells": [
  {
   "cell_type": "code",
   "execution_count": 1,
   "metadata": {},
   "outputs": [
    {
     "data": {
      "text/plain": [
       "[PhysicalDevice(name='/physical_device:CPU:0', device_type='CPU'),\n",
       " PhysicalDevice(name='/physical_device:GPU:0', device_type='GPU')]"
      ]
     },
     "execution_count": 1,
     "metadata": {},
     "output_type": "execute_result"
    }
   ],
   "source": [
    "import os\n",
    "# os.environ[\"CUDA_VISIBLE_DEVICES\"] = \"-1\"\n",
    "import tensorflow as tf\n",
    "tf.config.list_physical_devices()"
   ]
  },
  {
   "cell_type": "code",
   "execution_count": 2,
   "metadata": {},
   "outputs": [],
   "source": [
    "from tensorflow.keras.preprocessing.image import ImageDataGenerator\n",
    "\n",
    "train_datagen = ImageDataGenerator(\n",
    "    rotation_range = 30,\n",
    "    zoom_range = 0.15,\n",
    "    width_shift_range = 0.2,\n",
    "    height_shift_range = 0.2,\n",
    "    shear_range = 0.15,\n",
    "    horizontal_flip = True,\n",
    "    fill_mode = 'nearest'\n",
    ")\n",
    "\n",
    "valid_datagen = ImageDataGenerator()\n",
    "test_datagen = ImageDataGenerator()"
   ]
  },
  {
   "cell_type": "code",
   "execution_count": 3,
   "metadata": {},
   "outputs": [
    {
     "name": "stdout",
     "output_type": "stream",
     "text": [
      "Found 120 images belonging to 2 classes.\n",
      "Found 40 images belonging to 2 classes.\n",
      "Found 40 images belonging to 2 classes.\n"
     ]
    }
   ],
   "source": [
    "train_generator = train_datagen.flow_from_directory(\n",
    "  'dogs/train/',\n",
    "  target_size = (224,224),\n",
    "  color_mode = 'rgb',\n",
    "  batch_size = 10,\n",
    "  class_mode = 'binary',\n",
    "  shuffle = True,\n",
    "  seed = 42\n",
    ")\n",
    "\n",
    "valid_generator = valid_datagen.flow_from_directory(\n",
    "  'dogs/valid/',\n",
    "  target_size = (224,224),\n",
    "  color_mode = 'rgb',\n",
    "  batch_size = 10,\n",
    "  class_mode = 'binary',\n",
    "  shuffle = False,\n",
    "  seed = 42\n",
    ")\n",
    "\n",
    "test_generator = test_datagen.flow_from_directory(\n",
    "  'dogs/test/',\n",
    "  target_size = (224,224),\n",
    "  color_mode = 'rgb',\n",
    "  batch_size = 10,\n",
    "  class_mode = 'binary',\n",
    "  shuffle = False,\n",
    "  seed = 42\n",
    ")"
   ]
  },
  {
   "cell_type": "code",
   "execution_count": 4,
   "metadata": {},
   "outputs": [
    {
     "name": "stdout",
     "output_type": "stream",
     "text": [
      "Epoch 1/50\n",
      "12/12 [==============================] - 3s 135ms/step - loss: 542.7184 - accuracy: 0.4505 - val_loss: 23.6520 - val_accuracy: 0.5000\n",
      "Epoch 2/50\n",
      "12/12 [==============================] - 1s 81ms/step - loss: 7.0623 - accuracy: 0.5435 - val_loss: 1.2436 - val_accuracy: 0.5000\n",
      "Epoch 3/50\n",
      "12/12 [==============================] - 1s 82ms/step - loss: 0.6827 - accuracy: 0.5701 - val_loss: 1.4234 - val_accuracy: 0.5500\n",
      "Epoch 4/50\n",
      "12/12 [==============================] - 1s 82ms/step - loss: 0.6517 - accuracy: 0.5460 - val_loss: 1.2014 - val_accuracy: 0.5000\n",
      "Epoch 5/50\n",
      "12/12 [==============================] - 1s 81ms/step - loss: 0.6577 - accuracy: 0.5987 - val_loss: 2.2377 - val_accuracy: 0.5000\n",
      "Epoch 6/50\n",
      "12/12 [==============================] - 1s 82ms/step - loss: 0.6208 - accuracy: 0.6311 - val_loss: 1.3194 - val_accuracy: 0.4500\n",
      "Epoch 7/50\n",
      "12/12 [==============================] - 1s 82ms/step - loss: 0.6426 - accuracy: 0.6276 - val_loss: 1.9199 - val_accuracy: 0.5250\n",
      "Epoch 8/50\n",
      "12/12 [==============================] - 1s 83ms/step - loss: 0.6545 - accuracy: 0.5616 - val_loss: 2.0674 - val_accuracy: 0.5500\n",
      "Epoch 9/50\n",
      "12/12 [==============================] - 1s 82ms/step - loss: 0.7354 - accuracy: 0.5675 - val_loss: 0.8610 - val_accuracy: 0.5000\n",
      "Epoch 10/50\n",
      "12/12 [==============================] - 1s 82ms/step - loss: 0.6850 - accuracy: 0.5500 - val_loss: 0.8039 - val_accuracy: 0.5500\n",
      "Epoch 11/50\n",
      "12/12 [==============================] - 1s 83ms/step - loss: 0.6940 - accuracy: 0.5300 - val_loss: 1.0341 - val_accuracy: 0.5500\n",
      "Epoch 12/50\n",
      "12/12 [==============================] - 1s 83ms/step - loss: 0.6337 - accuracy: 0.5306 - val_loss: 1.7572 - val_accuracy: 0.5500\n",
      "Epoch 13/50\n",
      "12/12 [==============================] - 1s 82ms/step - loss: 0.6345 - accuracy: 0.5954 - val_loss: 2.4097 - val_accuracy: 0.5250\n",
      "Epoch 14/50\n",
      "12/12 [==============================] - 1s 82ms/step - loss: 0.5924 - accuracy: 0.6812 - val_loss: 1.6560 - val_accuracy: 0.5500\n",
      "Epoch 15/50\n",
      "12/12 [==============================] - 1s 82ms/step - loss: 0.6638 - accuracy: 0.5869 - val_loss: 0.6964 - val_accuracy: 0.5250\n",
      "Epoch 16/50\n",
      "12/12 [==============================] - 1s 83ms/step - loss: 0.6554 - accuracy: 0.6350 - val_loss: 0.6863 - val_accuracy: 0.5500\n",
      "Epoch 17/50\n",
      "12/12 [==============================] - 1s 83ms/step - loss: 0.6581 - accuracy: 0.6344 - val_loss: 0.7049 - val_accuracy: 0.7250\n",
      "Epoch 18/50\n",
      "12/12 [==============================] - 1s 82ms/step - loss: 0.6772 - accuracy: 0.5483 - val_loss: 0.6910 - val_accuracy: 0.5750\n",
      "Epoch 19/50\n",
      "12/12 [==============================] - 1s 82ms/step - loss: 0.5889 - accuracy: 0.6673 - val_loss: 0.7792 - val_accuracy: 0.5500\n",
      "Epoch 20/50\n",
      "12/12 [==============================] - 1s 83ms/step - loss: 0.6230 - accuracy: 0.5899 - val_loss: 0.8941 - val_accuracy: 0.6000\n",
      "Epoch 21/50\n",
      "12/12 [==============================] - 1s 83ms/step - loss: 0.6558 - accuracy: 0.5896 - val_loss: 2.0714 - val_accuracy: 0.5250\n"
     ]
    }
   ],
   "source": [
    "from tensorflow.keras import Sequential\n",
    "from tensorflow.keras.layers import Dense, Conv2D, MaxPooling2D, Flatten, Dropout\n",
    "from tensorflow.keras.callbacks import EarlyStopping\n",
    "\n",
    "model = Sequential()\n",
    "model.add(Conv2D(filters=32, input_shape=(224, 224, 3),\n",
    "  kernel_size=(3, 3), padding='same', activation='relu'))\n",
    "model.add(MaxPooling2D(pool_size=(2, 2)))\n",
    "model.add(Conv2D(64, kernel_size=(3, 3), activation='relu'))\n",
    "model.add(MaxPooling2D(pool_size=(2, 2)))\n",
    "model.add(Flatten())\n",
    "model.add(Dropout(0.5))\n",
    "model.add(Dense(1, activation='sigmoid'))\n",
    "model.compile(loss='binary_crossentropy',\n",
    "  optimizer='adam', metrics=['accuracy'])\n",
    "\n",
    "step_size_train = train_generator.n // train_generator.batch_size\n",
    "step_size_valid = valid_generator.n // valid_generator.batch_size\n",
    "step_size_test = test_generator.n // test_generator.batch_size\n",
    "\n",
    "callbacks = [EarlyStopping(monitor='val_loss', patience=5,\n",
    "  restore_best_weights=True)]\n",
    "\n",
    "history = model.fit(train_generator, steps_per_epoch = step_size_train,\n",
    "  epochs = 50, callbacks = callbacks, validation_data = valid_generator,\n",
    "  validation_steps = step_size_valid, verbose = 1)"
   ]
  },
  {
   "cell_type": "code",
   "execution_count": 5,
   "metadata": {},
   "outputs": [],
   "source": [
    "import numpy as np\n",
    "import pandas as pd\n",
    "from sklearn.metrics import confusion_matrix\n",
    "\n",
    "y_true = test_generator.classes\n",
    "y_pred = model.predict(test_generator, steps = step_size_test)"
   ]
  },
  {
   "cell_type": "code",
   "execution_count": 6,
   "metadata": {},
   "outputs": [
    {
     "name": "stdout",
     "output_type": "stream",
     "text": [
      "0.575\n"
     ]
    },
    {
     "data": {
      "text/html": [
       "<div>\n",
       "<style scoped>\n",
       "    .dataframe tbody tr th:only-of-type {\n",
       "        vertical-align: middle;\n",
       "    }\n",
       "\n",
       "    .dataframe tbody tr th {\n",
       "        vertical-align: top;\n",
       "    }\n",
       "\n",
       "    .dataframe thead th {\n",
       "        text-align: right;\n",
       "    }\n",
       "</style>\n",
       "<table border=\"1\" class=\"dataframe\">\n",
       "  <thead>\n",
       "    <tr style=\"text-align: right;\">\n",
       "      <th></th>\n",
       "      <th>pred:yes</th>\n",
       "      <th>pred:no</th>\n",
       "    </tr>\n",
       "  </thead>\n",
       "  <tbody>\n",
       "    <tr>\n",
       "      <th>true:yes</th>\n",
       "      <td>10</td>\n",
       "      <td>10</td>\n",
       "    </tr>\n",
       "    <tr>\n",
       "      <th>true:no</th>\n",
       "      <td>7</td>\n",
       "      <td>13</td>\n",
       "    </tr>\n",
       "  </tbody>\n",
       "</table>\n",
       "</div>"
      ],
      "text/plain": [
       "          pred:yes  pred:no\n",
       "true:yes        10       10\n",
       "true:no          7       13"
      ]
     },
     "execution_count": 6,
     "metadata": {},
     "output_type": "execute_result"
    }
   ],
   "source": [
    "y_pred = (y_pred > 0.5).astype(int).reshape(y_true.shape)\n",
    "\n",
    "print(np.mean(y_true == y_pred))\n",
    "\n",
    "pd.DataFrame(\n",
    "  confusion_matrix(y_true, y_pred), \n",
    "  index=['true:yes', 'true:no'], \n",
    "  columns=['pred:yes', 'pred:no']\n",
    ")"
   ]
  },
  {
   "cell_type": "code",
   "execution_count": 7,
   "metadata": {},
   "outputs": [],
   "source": [
    "from tensorflow.keras.applications.mobilenet import MobileNet, preprocess_input\n",
    "from tensorflow.keras.layers import GlobalAveragePooling2D\n",
    "from tensorflow.keras import Model\n",
    "\n",
    "base_model = MobileNet(weights='imagenet', include_top=False,\n",
    "  input_shape = (224, 224, 3))"
   ]
  },
  {
   "cell_type": "code",
   "execution_count": 8,
   "metadata": {},
   "outputs": [],
   "source": [
    "l = base_model.output\n",
    "l = GlobalAveragePooling2D()(l)\n",
    "out = Dense(1, activation='sigmoid')(l)\n",
    "\n",
    "model = Model(inputs = base_model.input, outputs = out)"
   ]
  },
  {
   "cell_type": "code",
   "execution_count": 9,
   "metadata": {},
   "outputs": [],
   "source": [
    "for layer in model.layers[:20]:\n",
    "    layer.trainable = False\n",
    "for layer in model.layers[20:]:\n",
    "    layer.trainable = True\n",
    "\n",
    "model.compile(loss='binary_crossentropy',\n",
    "  optimizer='adam', metrics=['accuracy'])"
   ]
  },
  {
   "cell_type": "code",
   "execution_count": 10,
   "metadata": {},
   "outputs": [],
   "source": [
    "train_datagen = ImageDataGenerator(\n",
    "    preprocessing_function = preprocess_input,\n",
    "    rotation_range = 30,\n",
    "    zoom_range = 0.15,\n",
    "    width_shift_range = 0.2,\n",
    "    height_shift_range = 0.2,\n",
    "    shear_range = 0.15,\n",
    "    horizontal_flip = True,\n",
    "    fill_mode = 'nearest'\n",
    ")\n",
    "\n",
    "valid_datagen = ImageDataGenerator(\n",
    "  preprocessing_function = preprocess_input\n",
    ")\n",
    "\n",
    "test_datagen = ImageDataGenerator(\n",
    "  preprocessing_function = preprocess_input\n",
    ")\n"
   ]
  },
  {
   "cell_type": "code",
   "execution_count": 11,
   "metadata": {},
   "outputs": [
    {
     "name": "stdout",
     "output_type": "stream",
     "text": [
      "Found 120 images belonging to 2 classes.\n",
      "Found 40 images belonging to 2 classes.\n",
      "Found 40 images belonging to 2 classes.\n"
     ]
    }
   ],
   "source": [
    "train_generator = train_datagen.flow_from_directory(\n",
    "  'dogs/train/',\n",
    "  target_size = (224,224),\n",
    "  color_mode = 'rgb',\n",
    "  batch_size = 10,\n",
    "  class_mode = 'binary',\n",
    "  shuffle = True,\n",
    "  seed = 42\n",
    ")\n",
    "\n",
    "valid_generator = valid_datagen.flow_from_directory(\n",
    "  'dogs/valid/',\n",
    "  target_size = (224,224),\n",
    "  color_mode = 'rgb',\n",
    "  batch_size = 10,\n",
    "  class_mode = 'binary',\n",
    "  shuffle = False,\n",
    "  seed = 42\n",
    ")\n",
    "\n",
    "test_generator = test_datagen.flow_from_directory(\n",
    "  'dogs/test/',\n",
    "  target_size = (224,224),\n",
    "  color_mode = 'rgb',\n",
    "  batch_size = 10,\n",
    "  class_mode = 'binary',\n",
    "  shuffle = False,\n",
    "  seed = 42\n",
    ")\n",
    "\n",
    "step_size_train = train_generator.n // train_generator.batch_size\n",
    "step_size_valid = valid_generator.n // valid_generator.batch_size\n",
    "step_size_test = test_generator.n // test_generator.batch_size\n",
    "\n",
    "callbacks = [EarlyStopping(monitor='val_loss', patience=5,\n",
    "  restore_best_weights=True)]"
   ]
  },
  {
   "cell_type": "code",
   "execution_count": 12,
   "metadata": {},
   "outputs": [
    {
     "name": "stdout",
     "output_type": "stream",
     "text": [
      "Epoch 1/50\n",
      "12/12 [==============================] - 5s 160ms/step - loss: 0.7845 - accuracy: 0.6244 - val_loss: 1.0187 - val_accuracy: 0.7750\n",
      "Epoch 2/50\n",
      "12/12 [==============================] - 2s 124ms/step - loss: 0.4089 - accuracy: 0.8400 - val_loss: 1.1782 - val_accuracy: 0.7500\n",
      "Epoch 3/50\n",
      "12/12 [==============================] - 2s 124ms/step - loss: 0.2609 - accuracy: 0.9350 - val_loss: 9.8080 - val_accuracy: 0.5000\n",
      "Epoch 4/50\n",
      "12/12 [==============================] - 2s 123ms/step - loss: 0.2705 - accuracy: 0.9454 - val_loss: 14.2747 - val_accuracy: 0.5000\n",
      "Epoch 5/50\n",
      "12/12 [==============================] - 2s 123ms/step - loss: 0.1462 - accuracy: 0.9336 - val_loss: 5.2572 - val_accuracy: 0.5250\n",
      "Epoch 6/50\n",
      "12/12 [==============================] - 2s 123ms/step - loss: 0.3446 - accuracy: 0.9284 - val_loss: 6.6463 - val_accuracy: 0.5000\n"
     ]
    }
   ],
   "source": [
    "history = model.fit(train_generator, steps_per_epoch = step_size_train,\n",
    "  epochs = 50, callbacks = callbacks, validation_data = valid_generator,\n",
    "  validation_steps = step_size_valid, verbose = 1)"
   ]
  },
  {
   "cell_type": "code",
   "execution_count": 13,
   "metadata": {},
   "outputs": [],
   "source": [
    "y_true = test_generator.classes\n",
    "y_pred = model.predict(test_generator, steps = step_size_test)"
   ]
  },
  {
   "cell_type": "code",
   "execution_count": 14,
   "metadata": {},
   "outputs": [],
   "source": [
    "# np.save('y_pred_dogs.npy', y_pred)"
   ]
  },
  {
   "cell_type": "code",
   "execution_count": 15,
   "metadata": {},
   "outputs": [
    {
     "name": "stdout",
     "output_type": "stream",
     "text": [
      "0.725\n"
     ]
    },
    {
     "data": {
      "text/html": [
       "<div>\n",
       "<style scoped>\n",
       "    .dataframe tbody tr th:only-of-type {\n",
       "        vertical-align: middle;\n",
       "    }\n",
       "\n",
       "    .dataframe tbody tr th {\n",
       "        vertical-align: top;\n",
       "    }\n",
       "\n",
       "    .dataframe thead th {\n",
       "        text-align: right;\n",
       "    }\n",
       "</style>\n",
       "<table border=\"1\" class=\"dataframe\">\n",
       "  <thead>\n",
       "    <tr style=\"text-align: right;\">\n",
       "      <th></th>\n",
       "      <th>pred:yes</th>\n",
       "      <th>pred:no</th>\n",
       "    </tr>\n",
       "  </thead>\n",
       "  <tbody>\n",
       "    <tr>\n",
       "      <th>true:yes</th>\n",
       "      <td>17</td>\n",
       "      <td>3</td>\n",
       "    </tr>\n",
       "    <tr>\n",
       "      <th>true:no</th>\n",
       "      <td>8</td>\n",
       "      <td>12</td>\n",
       "    </tr>\n",
       "  </tbody>\n",
       "</table>\n",
       "</div>"
      ],
      "text/plain": [
       "          pred:yes  pred:no\n",
       "true:yes        17        3\n",
       "true:no          8       12"
      ]
     },
     "execution_count": 15,
     "metadata": {},
     "output_type": "execute_result"
    }
   ],
   "source": [
    "y_pred = (y_pred > 0.5).astype(int).reshape(y_true.shape)\n",
    "\n",
    "print(np.mean(y_true == y_pred))\n",
    "\n",
    "pd.DataFrame(\n",
    "  confusion_matrix(y_true, y_pred), \n",
    "  index=['true:yes', 'true:no'], \n",
    "  columns=['pred:yes', 'pred:no']\n",
    ")"
   ]
  }
 ],
 "metadata": {
  "kernelspec": {
   "display_name": "Python 3",
   "language": "python",
   "name": "python3"
  },
  "language_info": {
   "codemirror_mode": {
    "name": "ipython",
    "version": 3
   },
   "file_extension": ".py",
   "mimetype": "text/x-python",
   "name": "python",
   "nbconvert_exporter": "python",
   "pygments_lexer": "ipython3",
   "version": "3.8.7"
  }
 },
 "nbformat": 4,
 "nbformat_minor": 4
}
